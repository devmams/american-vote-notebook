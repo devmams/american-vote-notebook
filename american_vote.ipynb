{
  "nbformat": 4,
  "nbformat_minor": 0,
  "metadata": {
    "colab": {
      "name": "american_vote.ipynb",
      "provenance": [],
      "collapsed_sections": [],
      "authorship_tag": "ABX9TyM1ilvfNpZ0Q8OhuqBoMP4d",
      "include_colab_link": true
    },
    "kernelspec": {
      "name": "python3",
      "display_name": "Python 3"
    },
    "accelerator": "GPU"
  },
  "cells": [
    {
      "cell_type": "markdown",
      "metadata": {
        "id": "view-in-github",
        "colab_type": "text"
      },
      "source": [
        "<a href=\"https://colab.research.google.com/github/devmams/american-vote/blob/master/american_vote.ipynb\" target=\"_parent\"><img src=\"https://colab.research.google.com/assets/colab-badge.svg\" alt=\"Open In Colab\"/></a>"
      ]
    },
    {
      "cell_type": "markdown",
      "metadata": {
        "id": "nnEBoeFo5u_R",
        "colab_type": "text"
      },
      "source": [
        "# Récupération des données"
      ]
    },
    {
      "cell_type": "code",
      "metadata": {
        "id": "6n_701bm2qbQ",
        "colab_type": "code",
        "outputId": "b2171ddc-0e98-4fea-adac-29dd72717b4a",
        "colab": {
          "base_uri": "https://localhost:8080/",
          "height": 208
        }
      },
      "source": [
        "!wget https://raw.githubusercontent.com/devmams/american-vote/master/data.txt"
      ],
      "execution_count": 49,
      "outputs": [
        {
          "output_type": "stream",
          "text": [
            "--2020-06-07 20:57:31--  https://raw.githubusercontent.com/devmams/american-vote/master/data.txt\n",
            "Resolving raw.githubusercontent.com (raw.githubusercontent.com)... 151.101.0.133, 151.101.64.133, 151.101.128.133, ...\n",
            "Connecting to raw.githubusercontent.com (raw.githubusercontent.com)|151.101.0.133|:443... connected.\n",
            "HTTP request sent, awaiting response... 200 OK\n",
            "Length: 18171 (18K) [text/plain]\n",
            "Saving to: ‘data.txt.4’\n",
            "\n",
            "\rdata.txt.4            0%[                    ]       0  --.-KB/s               \rdata.txt.4          100%[===================>]  17.75K  --.-KB/s    in 0.001s  \n",
            "\n",
            "2020-06-07 20:57:31 (24.5 MB/s) - ‘data.txt.4’ saved [18171/18171]\n",
            "\n"
          ],
          "name": "stdout"
        }
      ]
    },
    {
      "cell_type": "markdown",
      "metadata": {
        "id": "aijSIPfiapQ4",
        "colab_type": "text"
      },
      "source": [
        "# Pré-traitement\n",
        "\n"
      ]
    },
    {
      "cell_type": "code",
      "metadata": {
        "id": "-BvIXICe_YuU",
        "colab_type": "code",
        "colab": {}
      },
      "source": [
        "import numpy as np\n",
        "import matplotlib.pyplot as plt"
      ],
      "execution_count": 0,
      "outputs": []
    },
    {
      "cell_type": "code",
      "metadata": {
        "id": "1wAmR6ri3h_q",
        "colab_type": "code",
        "colab": {}
      },
      "source": [
        "fichier = open(\"data.txt\", \"r\")\n",
        "lignes = fichier.readlines()"
      ],
      "execution_count": 0,
      "outputs": []
    },
    {
      "cell_type": "code",
      "metadata": {
        "id": "LRHREJsM42hX",
        "colab_type": "code",
        "colab": {}
      },
      "source": [
        "# republican = 1 ,democrat = 0 ,y = 1, n = -1 et ? = 0\n",
        "def choixVote(ch):\n",
        "    if ch == 'republican':\n",
        "        return 1\n",
        "    elif ch == 'democrat':\n",
        "        return 0\n",
        "\n",
        "    elif ch == 'y':\n",
        "        return 1\n",
        "    elif ch == 'n':\n",
        "        return -1\n",
        "    else:\n",
        "        return 0"
      ],
      "execution_count": 0,
      "outputs": []
    },
    {
      "cell_type": "code",
      "metadata": {
        "id": "hIllT2dn_CJi",
        "colab_type": "code",
        "colab": {}
      },
      "source": [
        "Vote = []\n",
        "i = 0\n",
        "for ligne in lignes:\n",
        "    ligne = ligne.replace('\\n','')\n",
        "    t = ligne.split(',')\n",
        "    for i in range(0,len(t)):\n",
        "        Vote.append(choixVote(t[i]))\n",
        "\n",
        "Vote = np.reshape(Vote,(-1,17))\n",
        "np.random.seed(100)\n",
        "np.random.shuffle(Vote)"
      ],
      "execution_count": 0,
      "outputs": []
    },
    {
      "cell_type": "code",
      "metadata": {
        "id": "4q4ID-ChBphP",
        "colab_type": "code",
        "colab": {}
      },
      "source": [
        "Target = Vote[:,0]\n",
        "Data = Vote[:,1:]"
      ],
      "execution_count": 0,
      "outputs": []
    },
    {
      "cell_type": "code",
      "metadata": {
        "id": "qW7W5DYkB1wc",
        "colab_type": "code",
        "colab": {}
      },
      "source": [
        "nbExempleTrain = 335\n",
        "TrainData = Data[0:nbExempleTrain,:]\n",
        "TrainTarget = Target[0:nbExempleTrain]\n",
        "TestData = Data[nbExempleTrain:,:]\n",
        "TestTarget = Target[nbExempleTrain:]"
      ],
      "execution_count": 0,
      "outputs": []
    },
    {
      "cell_type": "markdown",
      "metadata": {
        "id": "XUZmUZzXcHQM",
        "colab_type": "text"
      },
      "source": [
        "# Apprentissage"
      ]
    },
    {
      "cell_type": "code",
      "metadata": {
        "id": "hoKvEaMYCR8M",
        "colab_type": "code",
        "colab": {}
      },
      "source": [
        "import torch\n",
        "import torch.utils.data as utils\n",
        "from torchvision import datasets\n",
        "import torch.nn as nn\n",
        "import torch.nn.functional as F\n",
        "import random\n",
        "from sklearn.metrics import classification_report, confusion_matrix, accuracy_score"
      ],
      "execution_count": 0,
      "outputs": []
    },
    {
      "cell_type": "code",
      "metadata": {
        "id": "LugIVt0rgwY0",
        "colab_type": "code",
        "outputId": "084f570b-6de1-4bbc-92c1-f03d10cf36c5",
        "colab": {
          "base_uri": "https://localhost:8080/",
          "height": 34
        }
      },
      "source": [
        "torch.manual_seed(2)"
      ],
      "execution_count": 57,
      "outputs": [
        {
          "output_type": "execute_result",
          "data": {
            "text/plain": [
              "<torch._C.Generator at 0x7f454e3cf5f0>"
            ]
          },
          "metadata": {
            "tags": []
          },
          "execution_count": 57
        }
      ]
    },
    {
      "cell_type": "code",
      "metadata": {
        "id": "JocAjVIvC9Ik",
        "colab_type": "code",
        "colab": {}
      },
      "source": [
        "torch.set_default_tensor_type(torch.FloatTensor)\n",
        "\n",
        "train_data_tensor = torch.tensor(TrainData)\n",
        "train_target_tensor = torch.tensor(TrainTarget) # transform to torch tensors\n",
        "\n",
        "test_data_tensor = torch.tensor(TestData) # transform to torch tensors\n",
        "test_target_tensor = torch.tensor(TestTarget) # transform to torch tensors\n",
        "\n",
        "train_dataset = utils.TensorDataset(train_data_tensor,train_target_tensor) # create your datset\n",
        "test_dataset = utils.TensorDataset(test_data_tensor,test_target_tensor) # create your datset\n",
        "\n",
        "batch_size = 1\n",
        "# Set the training loader\n",
        "train_loader = torch.utils.data.DataLoader(train_dataset, batch_size=batch_size, shuffle=False)\n",
        "# Set the testing loader\n",
        "test_loader = torch.utils.data.DataLoader(test_dataset, batch_size=batch_size, shuffle=False)"
      ],
      "execution_count": 0,
      "outputs": []
    },
    {
      "cell_type": "markdown",
      "metadata": {
        "id": "Acxrt44ucR3h",
        "colab_type": "text"
      },
      "source": [
        "# Paramètres du modèle"
      ]
    },
    {
      "cell_type": "code",
      "metadata": {
        "id": "HCb8o_nAE6tX",
        "colab_type": "code",
        "colab": {}
      },
      "source": [
        "weights = torch.randn(16, 1, requires_grad=True)\n",
        "b1 = torch.randn(1, requires_grad=True)"
      ],
      "execution_count": 0,
      "outputs": []
    },
    {
      "cell_type": "code",
      "metadata": {
        "id": "Xz_KDABhFZns",
        "colab_type": "code",
        "colab": {}
      },
      "source": [
        "def predict(weights, b1, test_loader):\n",
        "    predictions = []\n",
        "    targets = []\n",
        "    for batch_idx, (inputs, t) in enumerate(test_loader):\n",
        "        inputs = inputs.float()\n",
        "        t = t.float()\n",
        "        outputs = torch.matmul(inputs, weights) + b1\n",
        "        outputs = torch.sigmoid(outputs)\n",
        "        pred = outputs.round()\n",
        "        predictions.append(pred.item())\n",
        "        targets.append(t.item())\n",
        "       \n",
        "    return np.fromiter(predictions, dtype=int), np.fromiter(targets, dtype=int)\n"
      ],
      "execution_count": 0,
      "outputs": []
    },
    {
      "cell_type": "code",
      "metadata": {
        "id": "JoXyAJrGBkbt",
        "colab_type": "code",
        "outputId": "f4e54acb-1c72-4abb-96d4-b8ba9a88f30b",
        "colab": {
          "base_uri": "https://localhost:8080/",
          "height": 590
        }
      },
      "source": [
        "it = 0\n",
        "loss_mse = nn.MSELoss()\n",
        "for batch_idx, (inputs, targets) in enumerate(train_loader):\n",
        "    # Be sure to start the loop with zeros grad\n",
        "    if weights.grad is not None:\n",
        "        weights.grad.zero_()\n",
        "\n",
        "    if b1.grad is not None:\n",
        "      b1.grad.zero_()\n",
        "\n",
        "    inputs = inputs.float()\n",
        "    targets = targets.float()\n",
        "    outputs = torch.matmul(inputs, weights) + b1\n",
        "    outputs = torch.sigmoid(outputs)\n",
        "    targets = targets.view_as(outputs)\n",
        "    \n",
        "    loss = loss_mse(outputs, targets)\n",
        "    loss.backward()\n",
        "    \n",
        "    with torch.no_grad():\n",
        "      weights -= 0.1*weights.grad\n",
        "      b1 -= 0.1*b1.grad\n",
        "\n",
        "    it += 1\n",
        "    if it % 10 == 0:\n",
        "      print(\"\\rLoss : {}\".format(loss), end=\"\")\n",
        "      predictions, targets = predict(weights,b1,test_loader)\n",
        "      print(\" | Accuracy : \", accuracy_score(targets, predictions)) \n"
      ],
      "execution_count": 61,
      "outputs": [
        {
          "output_type": "stream",
          "text": [
            "\rLoss : 0.7204058766365051 | Accuracy :  0.74\n",
            "\rLoss : 0.35589414834976196 | Accuracy :  0.76\n",
            "\rLoss : 0.02778741717338562 | Accuracy :  0.78\n",
            "\rLoss : 0.9252195954322815 | Accuracy :  0.78\n",
            "\rLoss : 1.0038837672254886e-06 | Accuracy :  0.78\n",
            "\rLoss : 0.18206742405891418 | Accuracy :  0.78\n",
            "\rLoss : 1.0503016483198735e-06 | Accuracy :  0.78\n",
            "\rLoss : 0.8814020156860352 | Accuracy :  0.79\n",
            "\rLoss : 0.010065912269055843 | Accuracy :  0.8\n",
            "\rLoss : 2.901505649788305e-05 | Accuracy :  0.8\n",
            "\rLoss : 1.858751056715846e-05 | Accuracy :  0.82\n",
            "\rLoss : 0.7760655879974365 | Accuracy :  0.83\n",
            "\rLoss : 0.18622919917106628 | Accuracy :  0.83\n",
            "\rLoss : 0.3798208236694336 | Accuracy :  0.84\n",
            "Loss : 7.658655931663816e-08 | Accuracy :  0.84\n",
            "Loss : 6.066415608074749e-06 | Accuracy :  0.85\n",
            "Loss : 0.005354143213480711 | Accuracy :  0.86\n",
            "Loss : 1.0849063301066053e-06 | Accuracy :  0.87\n",
            "Loss : 0.004046598449349403 | Accuracy :  0.87\n",
            "Loss : 0.49046939611434937 | Accuracy :  0.87\n",
            "Loss : 0.005225390195846558 | Accuracy :  0.87\n",
            "Loss : 0.0003343386633787304 | Accuracy :  0.87\n",
            "Loss : 6.034006582922302e-05 | Accuracy :  0.89\n",
            "Loss : 1.1482627087389119e-05 | Accuracy :  0.89\n",
            "Loss : 3.5298819511808688e-06 | Accuracy :  0.89\n",
            "Loss : 0.0013769213110208511 | Accuracy :  0.89\n",
            "Loss : 4.7507305112048925e-07 | Accuracy :  0.89\n",
            "Loss : 0.05490947887301445 | Accuracy :  0.89\n",
            "Loss : 0.9933763146400452 | Accuracy :  0.89\n",
            "Loss : 1.1022259059245698e-05 | Accuracy :  0.89\n",
            "Loss : 0.4207243025302887 | Accuracy :  0.89\n",
            "Loss : 0.0005877517978660762 | Accuracy :  0.89\n",
            "Loss : 0.026978792622685432 | Accuracy :  0.89\n"
          ],
          "name": "stdout"
        }
      ]
    },
    {
      "cell_type": "code",
      "metadata": {
        "id": "dSrfb44pfmS6",
        "colab_type": "code",
        "outputId": "32333281-7f77-4b02-e055-83d2550bdcab",
        "colab": {
          "base_uri": "https://localhost:8080/",
          "height": 260
        }
      },
      "source": [
        "predictions, targets = predict(weights,b1,test_loader)\n",
        "print(predictions[0:10])\n",
        "print(targets[0:10])\n",
        "from sklearn.metrics import classification_report, confusion_matrix, accuracy_score\n",
        "print(confusion_matrix(targets, predictions))\n",
        "print(classification_report(targets, predictions))\n",
        "print(accuracy_score(targets, predictions))"
      ],
      "execution_count": 62,
      "outputs": [
        {
          "output_type": "stream",
          "text": [
            "[1 1 0 0 0 1 0 0 0 1]\n",
            "[0 1 0 0 0 1 0 0 0 1]\n",
            "[[50  7]\n",
            " [ 4 39]]\n",
            "              precision    recall  f1-score   support\n",
            "\n",
            "           0       0.93      0.88      0.90        57\n",
            "           1       0.85      0.91      0.88        43\n",
            "\n",
            "    accuracy                           0.89       100\n",
            "   macro avg       0.89      0.89      0.89       100\n",
            "weighted avg       0.89      0.89      0.89       100\n",
            "\n",
            "0.89\n"
          ],
          "name": "stdout"
        }
      ]
    },
    {
      "cell_type": "code",
      "metadata": {
        "id": "Sb2TSPSMBl4J",
        "colab_type": "code",
        "outputId": "2e5d0e47-5053-4db2-a5aa-5a368229ea96",
        "colab": {
          "base_uri": "https://localhost:8080/",
          "height": 34
        }
      },
      "source": [
        "def test(weights, b1, test_loader):\n",
        "    test_size = len(test_loader.dataset)\n",
        "    correct = 0\n",
        "\n",
        "    for batch_idx, (inputs, targets) in enumerate(test_loader):\n",
        "        inputs = inputs.float()\n",
        "        targets = targets.float()\n",
        "        outputs = torch.matmul(inputs, weights) + b1\n",
        "        outputs = torch.sigmoid(outputs)\n",
        "        pred = outputs.round()\n",
        "        n_correct = pred.eq(targets.view_as(pred)).sum().item()\n",
        "        correct += n_correct\n",
        "\n",
        "    acc = correct / test_size\n",
        "    print(\"Accuracy : \", acc, \"| Bad predictions : \", test_size-correct, \" / \", test_size)\n",
        "\n",
        "test(weights, b1, test_loader)"
      ],
      "execution_count": 63,
      "outputs": [
        {
          "output_type": "stream",
          "text": [
            "Accuracy :  0.89 | Bad predictions :  11  /  100\n"
          ],
          "name": "stdout"
        }
      ]
    },
    {
      "cell_type": "code",
      "metadata": {
        "id": "8iEAApiW8N3c",
        "colab_type": "code",
        "colab": {}
      },
      "source": [
        "# from sklearn.svm import LinearSVC\n",
        "\n",
        "# clf_SVC = LinearSVC()\n",
        "\n",
        "# clf_SVC.fit(X_train, y_train)\n",
        "\n",
        "# y_pred_2 = clf_SVC.predict(X_test)\n",
        "# clf_SVC.score(X_test, y_test)\n",
        "# print(\"---- %d\", (X_test.shape[0],(y_test != y_pred_2).sum()))\n",
        "# print(confusion_matrix(y_test,y_pred_2))\n",
        "# print(classification_report(y_test,y_pred_2))\n",
        "# print(accuracy_score(y_test, y_pred_2))"
      ],
      "execution_count": 0,
      "outputs": []
    },
    {
      "cell_type": "code",
      "metadata": {
        "id": "rbJDcrr1cVqk",
        "colab_type": "code",
        "colab": {}
      },
      "source": [
        ""
      ],
      "execution_count": 0,
      "outputs": []
    }
  ]
}